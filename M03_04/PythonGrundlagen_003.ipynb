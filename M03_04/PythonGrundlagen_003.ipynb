{
 "cells": [
  {
   "cell_type": "markdown",
   "metadata": {},
   "source": [
    "# KI relevante Bibliotheken (besser) kennenlernen\n",
    "Es gibt noch viele Details die man sich anschauen kann, dies machen wir ad hoc oder wenn Sie mögen gerne einfach weiter im Kurs schauen!\n",
    "Wir werden als nächstes:\n",
    "* KI relevante Bibliotheken wie numpy scikit und pandas etwas anwenden damit sie für die WPMs gerüstet sind(https://www.python-kurs.eu/numerisches_programmieren_in_Python.php)\n"
   ]
  },
  {
   "cell_type": "markdown",
   "metadata": {},
   "source": [
    "## Phase 1: Lets Do it!\n",
    "Wir werden uns im folgenden mit ein paar \"einfachen\" Anwendungen Auseinandersetzen, die Sie in form von \"Aufgaben\" an Sie lösen sollen.\n",
    "\n",
    "Ablauf: \n",
    "1. Bilden Teams von Max 3 Personen. \n",
    "2. Lösen Sie (zumindest im Ansatz) die Aufgaben 1-4 zuerst alleine, \n",
    "3. Vergelichen Sie ihre Lösungen anschließend und einigen Sie sich auf eine Team-Lösung!\n",
    "4. Nutzen Sie eine Präsentationssoftware und erfassen Sie Ihre Lösung dort so, da Sie als Team\n",
    "5. Ihre Lösung mit kurzer Erklärung vorstellen können - max 7 - 10 Minuten!\n",
    "\n",
    "Folgenden Aufgaben sollen Sie lösen die NumPy, Matplotlib, Pandas und Scikit-learn nutzen:\n",
    "1. Aufgabe: Array-Manipulation mit NumPy\n",
    "2. Aufgabe: Datenvisualisierung mit Matplotlib\n",
    "3. Aufgabe: Datenanalyse mit Pandas\n",
    "4. Aufgabe: Lineare Regression mit Scikit-learn\n",
    "\n",
    "\n",
    "Wenn Sie alle Aufgaben erfolgreich gelöst und Präsentiert haben, schauen Sie sich die Lösungen für diese Aufgaben an und vergleichen Sie."
   ]
  },
  {
   "cell_type": "markdown",
   "metadata": {},
   "source": [
    "### 1. Aufgabe: Array-Manipulation mit NumPy\n",
    "Erstelle ein NumPy-Array mit 20 oder 30 zufälligen ganzen Zahlen zwischen 0 und 100. Teile das Array in zwei Hälften und gib die Summe jeder Hälfte zurück."
   ]
  },
  {
   "cell_type": "code",
   "execution_count": null,
   "metadata": {},
   "outputs": [],
   "source": [
    "# Array-Manipulation mit NumPy\n",
    "\n",
    "# Erstelle ein Array mit 20 zufälligen ganzen Zahlen zwischen 0 und 100\n",
    "\n",
    "# Teile das Array in zwei Hälften\n",
    "\n",
    "# Berechne die Summe jeder Hälfte"
   ]
  },
  {
   "cell_type": "markdown",
   "metadata": {},
   "source": [
    "### 2. Aufgabe: Datenvisualisierung mit Matplotlib\n",
    "Erstelle ein Balkendiagramm, das die Umsätze eines Unternehmens in den ersten vier Quartalen eines Jahres darstellt. Die Umsätze betragen: Q1: 1500€, Q2: 1700€, Q3: 1600€, Q4: 1800€."
   ]
  },
  {
   "cell_type": "code",
   "execution_count": null,
   "metadata": {},
   "outputs": [],
   "source": [
    "# Datenvisualisierung mit Matplotlib\n",
    "\n",
    "# Daten erstellen/festhalten\n",
    "\n",
    "# Erstelle das Balkendiagramm"
   ]
  },
  {
   "cell_type": "markdown",
   "metadata": {},
   "source": [
    "### 3. Aufgabe: Datenanalyse mit Pandas\n",
    "Lade eine CSV-Datei mit fiktiven Verkäufen ('sales.csv'). Die Datei enthält die Spalten: Product, Date, Units Sold, Revenue. Erstelle eine neue Spalte, die den durchschnittlichen Verkaufspreis pro Einheit (Revenue / Units Sold) für jedes Produkt berechnet."
   ]
  },
  {
   "cell_type": "code",
   "execution_count": null,
   "metadata": {},
   "outputs": [],
   "source": [
    "# Datenanalyse mit Pandas\n",
    "\n",
    "# Lade die CSV-Datei\n",
    "\n",
    "# Erstelle eine neue Spalte für den durchschnittlichen Verkaufspreis pro Einheit\n",
    "\n",
    "# Zeige die ersten Zeilen des DataFrames an"
   ]
  },
  {
   "cell_type": "markdown",
   "metadata": {},
   "source": [
    "Daten:\n",
    "Product,Date,Units Sold,Revenue\n",
    "Bike,2024-01-01,5,5000\n",
    "Helmet,2024-01-02,3,300\n",
    "Gloves,2024-01-03,10,200\n",
    "Jersey,2024-01-04,6,600\n",
    "Shoes,2024-01-05,2,250\n",
    "Bike,2024-01-06,4,4000\n",
    "Helmet,2024-01-07,8,320\n",
    "Gloves,2024-01-08,9,1800\n",
    "Jersey,2024-01-09,7,1000\n",
    "Shoes,2024-01-10,3,600"
   ]
  },
  {
   "cell_type": "markdown",
   "metadata": {},
   "source": [
    "### 4. Aufgabe: Lineare Regression mit Scikit-learn\n",
    "Erstelle eine einfache lineare Regression. Gegeben sind folgende Daten: X = [1, 2, 3, 4, 5] (Merkmale), y = [1.5, 3.6, 3.0, 4.0, 5.2] (Zielwerte). Trainiere ein Modell und berechne die Vorhersage für X = 6."
   ]
  },
  {
   "cell_type": "code",
   "execution_count": null,
   "metadata": {},
   "outputs": [],
   "source": [
    "# Lineare Regression mit Scikit-learn\n",
    "\n",
    "# Daten\n",
    "\n",
    "# Erstelle das Modell\n",
    "\n",
    "# Trainiere das Modell\n",
    "\n",
    "# Vorhersage für x = 6"
   ]
  },
  {
   "cell_type": "markdown",
   "metadata": {},
   "source": [
    "### Abgleich der Lösungen\n",
    "Schauen Sie sich die Lösungen im Team an - gibt es \"bessere\" ansätze? Fehler oder alternative Lösungswege?"
   ]
  },
  {
   "cell_type": "markdown",
   "metadata": {},
   "source": [
    "### Erstellen einer Präsentation\n",
    "Versuchen Sie die Aufgaben und Ihre Lösung kurz und prägnant zu visualisieren und zu erläutern.\n",
    "Sie haben \"nur\" 7-10 Minuten. "
   ]
  },
  {
   "cell_type": "markdown",
   "metadata": {},
   "source": [
    "### Erläuterung zur Linearen Regression in Aufgabe 4 und gleich für Aufgabe 6\n",
    "Die lineare Regression ist ein grundlegendes Verfahren der Statistik und des maschinellen Lernens (Machine Learning), um eine Beziehung zwischen einer unabhängigen Variable (Merkmal) und einer abhängigen Variable (Zielwert) zu modellieren. Es geht darum, eine Linie zu finden, die die Beziehung zwischen den Datenpunkten möglichst gut beschreibt. Diese Linie kann dann genutzt werden, um zukünftige Werte vorherzusagen.\n",
    "\n",
    "1. Lineare Regression in Aufgabe 4\n",
    "In Aufgabe 4 hast du eine einfache lineare Regression mit den Datenpunkten:\n",
    "\n",
    "* x (Merkmale): [1, 2, 3, 4, 5]\n",
    "* y (Zielwerte): [1.5, 3.6, 3.0, 4.0, 5.2]\n",
    "Hier wird ein Modell erstellt, das eine Linie an diese Punkte anpasst. Die Grundidee ist, die beste gerade Linie \n",
    "* 𝑦=𝑚𝑥+𝑏\n",
    "* y=mx+b zu finden, wobei:\n",
    "\n",
    "* 𝑚 die Steigung der Linie ist, \n",
    "* 𝑏 der Schnittpunkt der Linie mit der y-Achse ist.\n",
    "\n",
    "Das Modell passt sich den Daten an, indem es die Summe der quadratischen Abstände (Fehler) zwischen den tatsächlichen y-Werten und den vorhergesagten Werten minimiert. Nachdem das Modell trainiert wurde, kann es genutzt werden, um Vorhersagen für zukünftige Werte zu treffen. In diesem Fall wurde eine Vorhersage für x=6 gemacht.\n",
    "\n",
    "2. Lineare Regression in Aufgabe 6\n",
    "In Aufgabe 6 haben wir ein ähnliches Szenario, aber mit echten Verkaufsdaten:\n",
    "\n",
    "* x: Monat (1 bis 12)\n",
    "* y: Verkaufszahlen (Units Sold)\n",
    "\n",
    "Das Ziel ist es, eine Linie zu finden, die den Trend der verkauften Einheiten über die Monate beschreibt. Auch hier wird ein Modell trainiert, um die Steigung und den y-Achsenabschnitt zu ermitteln. Nachdem das Modell trainiert wurde, kann es verwendet werden, um zukünftige Verkaufszahlen vorherzusagen. In diesem Fall wird eine Vorhersage für den 13. Monat getroffen.\n",
    "\n",
    "#### Wie funktioniert die lineare Regression?\n",
    "Die lineare Regression funktioniert in mehreren Schritten:\n",
    "\n",
    "Modell anpassen: Basierend auf den vorhandenen Daten berechnet das Modell die beste passende Linie, indem es die Parameter \n",
    "𝑚(Steigung) und 𝑏 (y-Achsenabschnitt) optimiert. Dies geschieht durch Minimierung der Fehlerfunktion (meistens die Methode der kleinsten Quadrate).\n",
    "Vorhersagen treffen: Nachdem das Modell trainiert ist, kann es Vorhersagen machen, indem es die Funktion  𝑦 = 𝑚𝑥 + 𝑏 verwendet, um für jeden neuen Wert von x einen 𝑦y-Wert zu berechnen.\n",
    "\n",
    "Evaluierung: Das Modell wird anhand der Daten ausgewertet, indem Metriken wie der mittlere quadratische Fehler (Mean Squared Error) oder der R-Quadrat-Wert verwendet werden, um zu sehen, wie gut es die Daten beschreibt.\n",
    "Zusammenhang mit Künstlicher Intelligenz (KI)\n",
    "Die lineare Regression ist eine Grundform des überwachten maschinellen Lernens, was ein Teilbereich der Künstlichen Intelligenz ist. In überwachten Lernmethoden:\n",
    "\n",
    "Das Modell wird mit Eingabedaten (Features) und den zugehörigen Ausgabedaten (Labels) trainiert.\n",
    "Ziel ist es, eine Funktion zu lernen, die zukünftige Datenpunkte mit hoher Genauigkeit vorhersagen kann.\n",
    "In diesem Fall ist die lineare Regression ein einfaches Beispiel, das aber als Grundlage für komplexere KI-Algorithmen dient. Größere Modelle in der KI, wie neuronale Netze, bauen auf ähnlichen Konzepten auf, haben aber die Fähigkeit, nicht-lineare und sehr komplexe Beziehungen zu lernen.\n",
    "\n",
    "#### Lineare Regression und KI im Detail:\n",
    "1. Einfachheit und Skalierbarkeit: Lineare Regression ist einer der einfachsten Algorithmen im Machine Learning. Sie skaliert gut auf größere Datenmengen und wird oft als Baseline für komplexere Algorithmen genutzt.\n",
    "2. Grundlage für neuronale Netze: In neuronalen Netzen, die eine wichtige Rolle in der KI spielen, ist die lineare Regression ein Grundbaustein. Ein Neuron im Netzwerk führt eine lineare Kombination der Eingaben durch, gefolgt von einer Aktivierungsfunktion.\n",
    "3. Regressionsanalyse als Teil von KI: Lineare Regression gehört zu den Werkzeugen, die verwendet werden, um Maschinen \"beizubringen\", Muster in Daten zu erkennen. Sie lernt von vorhandenen Daten und trifft Vorhersagen über zukünftige Ergebnisse, was ein typischer Anwendungsfall der Künstlichen Intelligenz ist.\n",
    "\n",
    "In komplexeren KI-Systemen werden diese Grundkonzepte erweitert und mit anderen Techniken kombiniert, um eine Vielzahl von Problemen zu lösen, von der Vorhersage von Verkäufen bis hin zur Erkennung von Objekten in Bildern."
   ]
  },
  {
   "cell_type": "markdown",
   "metadata": {},
   "source": [
    "## Phase 2\n",
    "Nun schauen wir uns zwei zusätzliche Aufgaben, die NumPy, Matplotlib, Pandas und Scikit-learn miteinander verbinden an.\n",
    "Das Vorgehe ist wie oben, gerne mit gleichen Teams, Sie/Wir können aber auch gerne durchwechseln.\n",
    "Ablauf: \n",
    "1. Bilden Teams von Max 3 Personen. \n",
    "2. Lösen Sie (zumindest im Ansatz) die Aufgaben 5 und 6 zuerst alleine, \n",
    "3. Vergelichen Sie ihre Lösungen anschließend und einigen Sie sich auf eine Team-Lösung!\n",
    "4. Nutzen Sie eine Präsentationssoftware und erfassen Sie Ihre Lösung dort so, da Sie als Team\n",
    "5. Ihre Lösung mit kurzer Erklärung vorstellen können - max 7 - 9 Minuten!\n",
    "\n",
    "Folgenden Aufgaben sollen Sie lösen die NumPy, Matplotlib, Pandas und Scikit-learn nutzen:\n",
    "1. Aufgabe: Datenanalyse und Visualisierung mit Pandas, NumPy und Matplotlib\n",
    "2. Aufgabe: Vorhersage von Verkaufszahlen mit Pandas, NumPy, Matplotlib und Scikit-learn\n"
   ]
  },
  {
   "cell_type": "markdown",
   "metadata": {},
   "source": [
    "### 5. Aufgabe: Datenanalyse und Visualisierung mit Pandas, NumPy und Matplotlib\n",
    "Erstelle ein Pandas-DataFrame, das die täglichen Temperaturen (in °C) über einen Zeitraum von 30 Tagen enthält. Die Temperaturen sollen zufällig generiert werden (zwischen 15°C und 30°C). Berechne mit NumPy den Durchschnitt, die Standardabweichung und die Varianz der Temperaturen. Zeichne anschließend mit Matplotlib ein Liniendiagramm, das die Temperaturentwicklung über die Tage hinweg zeigt.\n",
    "Diese Aufgabe verbindet NumPy und Pandas zur Berechnung statistischer Werte und Matplotlib zur Visualisierung der Ergebnisse."
   ]
  },
  {
   "cell_type": "code",
   "execution_count": null,
   "metadata": {},
   "outputs": [],
   "source": [
    "# Datenanalyse und Visualisierung mit Pandas, NumPy und Matplotlib\n",
    "\n",
    "# Erstelle ein Pandas-DataFrame mit zufälligen Temperaturen\n",
    "\n",
    "# Berechnungen mit NumPy\n",
    "\n",
    "# Zeige die statistischen Werte an\n",
    "\n",
    "# Zeichne das Liniendiagramm"
   ]
  },
  {
   "cell_type": "markdown",
   "metadata": {},
   "source": [
    "### 6. Aufgabe: Vorhersage von Verkaufszahlen mit Pandas, NumPy, Matplotlib und Scikit-learn\n",
    "Gegeben ist ein DataFrame mit fiktiven Verkaufszahlen ('sales_data.csv'), das die Spalten Month, Units Sold und Revenue enthält. Berechne mit NumPy den durchschnittlichen Verkaufspreis pro Einheit für jeden Monat. Visualisiere die monatlichen Verkäufe mit Matplotlib. Verwende anschließend Scikit-learn, um eine einfache lineare Regression zu implementieren und die zukünftigen Verkäufe (Units Sold) für den nächsten Monat vorherzusagen.\n",
    "Diese Aufgabe kombiniert Pandas zur Datenverarbeitung, NumPy für Berechnungen, Matplotlib zur Visualisierung der Verkaufsdaten und Scikit-learn für die Vorhersage zukünftiger Verkaufszahlen mit einer linearen Regression."
   ]
  },
  {
   "cell_type": "markdown",
   "metadata": {},
   "source": [
    "Beispieldaten\n",
    "Month,Units Sold,Revenue\n",
    "1,150,2250\n",
    "2,200,3200\n",
    "3,250,4000\n",
    "4,300,4500\n",
    "5,350,5250\n",
    "6,400,6000\n",
    "7,450,6750\n",
    "8,500,7600\n",
    "9,550,8300\n",
    "10,600,9000\n",
    "11,650,9750\n",
    "12,700,10500"
   ]
  },
  {
   "cell_type": "code",
   "execution_count": 2,
   "metadata": {},
   "outputs": [
    {
     "data": {
      "text/plain": [
       "'./sales_data.csv'"
      ]
     },
     "execution_count": 2,
     "metadata": {},
     "output_type": "execute_result"
    }
   ],
   "source": [
    "# Verkaufsdaten als CSV \"generieren\" lassen in etwa so...\n",
    "\n",
    "# Beispiel-Daten für die CSV-Datei\n",
    "data = {\n",
    "    'Month': #...\n",
    "    'Units Sold': #... \n",
    "    'Revenue': #...\n",
    "}\n",
    "\n",
    "# Erstelle ein DataFrame\n",
    "\n",
    "# Speichere das DataFrame als CSV\n",
    "csv_path = './sales_data.csv'\n"
   ]
  },
  {
   "cell_type": "code",
   "execution_count": null,
   "metadata": {},
   "outputs": [],
   "source": [
    "#  Vorhersage von Verkaufszahlen mit Pandas, NumPy, Matplotlib und Scikit-learn\n",
    "\n",
    "# Lade das CSV-File in ein DataFrame\n",
    "\n",
    "# Berechne den durchschnittlichen Verkaufspreis pro Einheit\n",
    "\n",
    "# Statistiken ausgeben\n",
    "\n",
    "# Visualisiere die monatlichen Verkäufe\n",
    "\n",
    "# Daten für das Modell vorbereiten (X = Monat, y = Units Sold)\n",
    "\n",
    "# Lineares Regressionsmodell erstellen und trainieren\n",
    "\n",
    "# Vorhersage für den nächsten Monat"
   ]
  },
  {
   "cell_type": "markdown",
   "metadata": {},
   "source": [
    "## Phase 3 - Etwas Komplexer: Vorhersage von Verkaufsdaten mit Polynomialer Regression\n",
    "\n",
    "7. Aufgabe: Vorhersage von Fahrradverkäufen mit Polynomialer Regression\n",
    "Ein Fahrradgeschäft hat die Verkaufszahlen für die letzten 12 Monate aufgezeichnet. Die Verkaufszahlen folgen einem nicht-linearen Trend, da sie saisonalen Schwankungen unterliegen. Erstelle ein polynomiales Regressionsmodell, um zukünftige Verkäufe vorherzusagen.\n",
    "Nutze eine polynomiale Regression, um die Verkaufszahlen für den 13. Monat vorherzusagen."
   ]
  },
  {
   "cell_type": "markdown",
   "metadata": {},
   "source": [
    "| Monat\t| Verkaufszahlen |\n",
    "|--------|--------|\n",
    "|1 |\t100\n",
    "|2 |\t150\n",
    "|3 |\t200\n",
    "|4 |\t250\n",
    "|5 | \t400\n",
    "|6 |\t600\n",
    "|7 |\t800\n",
    "|8 | \t850\n",
    "|9 |\t700\n",
    "|10 |\t600\n",
    "|11 |\t450\n",
    "|12 |\t300"
   ]
  },
  {
   "cell_type": "code",
   "execution_count": null,
   "metadata": {},
   "outputs": [],
   "source": [
    "# Vorhersage von Fahrradverkäufen mit Polynomialer Regression\n",
    "\n",
    "\n",
    "# 1. Verkaufsdaten\n",
    "\n",
    "# 2. Polynomiale Features erstellen (z.B. Grad 3 für Nicht-Linearität)\n",
    "\n",
    "# 3. Lineares Regressionsmodell auf die polynomiellen Features anwenden\n",
    "\n",
    "# 4. Vorhersage für den 13. Monat\n",
    "\n",
    "# 5. Visualisierung der Daten und des polynomiellen Modells"
   ]
  },
  {
   "cell_type": "markdown",
   "metadata": {},
   "source": [
    "Erklärung der Schritte:\n",
    "1. Datenvorbereitung:\n",
    "\n",
    "Wir haben die Verkaufsdaten der letzten 12 Monate, wobei der Verkauf in den Sommermonaten höher und im Winter niedriger ist. Das deutet auf ein nicht-lineares Muster hin.\n",
    "\n",
    "2. Polynomiale Merkmale:\n",
    "\n",
    "Wir erstellen polynomiale Merkmale dritten Grades (PolynomialFeatures(degree=3)), um das Modell in der Lage zu versetzen, nicht-lineare Muster in den Daten zu erfassen. Dabei erweitern wir die ursprünglichen Merkmale (Monate) um zusätzliche Features, die Quadrate und Kuben der Monate beinhalten.\n",
    "\n",
    "3. Lineare Regression auf polynomiale Features:\n",
    "\n",
    "Obwohl es sich um eine lineare Regression handelt, erfolgt die Regression auf die erweiterten (polynomialen) Merkmale, wodurch die Nicht-Linearität berücksichtigt wird.\n",
    "\n",
    "4. Vorhersage:\n",
    "\n",
    "Das trainierte Modell wird verwendet, um eine Vorhersage für den 13. Monat zu treffen.\n",
    "\n",
    "5. Visualisierung:\n",
    "\n",
    "Die ursprünglichen Datenpunkte werden als rote Punkte dargestellt, und die polynomiale Regressionskurve wird in Blau gezeigt, um zu verdeutlichen, wie gut das Modell die nicht-linearen Muster erfasst."
   ]
  },
  {
   "cell_type": "markdown",
   "metadata": {},
   "source": [
    "#### Zusammenhang mit KI:\n",
    "Polynomiale Regression ist ein einfaches Beispiel für überwachtes Lernen im Bereich des maschinellen Lernens, bei dem ein Modell auf Trainingsdaten trainiert wird, um nicht-lineare Zusammenhänge zwischen Eingaben (Monat) und Ausgaben (Verkaufszahlen) zu erfassen. Komplexere KI-Modelle wie neuronale Netze oder Support Vector Machines (SVMs) erweitern diese Idee, um viel komplexere und hochdimensionalere Daten zu verarbeiten.\n",
    "\n",
    "Die Verwendung polynomialer Merkmale ist eine Methode, um das Modell an nicht-lineare Muster in den Daten anzupassen, was es zu einer ersten Erweiterung von reinen linearen Modellen in Richtung KI-fähiger Algorithmen macht."
   ]
  }
 ],
 "metadata": {
  "kernelspec": {
   "display_name": "Python 3",
   "language": "python",
   "name": "python3"
  },
  "language_info": {
   "codemirror_mode": {
    "name": "ipython",
    "version": 3
   },
   "file_extension": ".py",
   "mimetype": "text/x-python",
   "name": "python",
   "nbconvert_exporter": "python",
   "pygments_lexer": "ipython3",
   "version": "3.11.9"
  }
 },
 "nbformat": 4,
 "nbformat_minor": 2
}
