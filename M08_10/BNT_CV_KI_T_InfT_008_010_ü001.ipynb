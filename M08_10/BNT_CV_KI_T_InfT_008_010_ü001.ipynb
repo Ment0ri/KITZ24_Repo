{
  "nbformat": 4,
  "nbformat_minor": 0,
  "metadata": {
    "colab": {
      "provenance": [],
      "toc_visible": true
    },
    "kernelspec": {
      "name": "python3",
      "display_name": "Python 3"
    },
    "language_info": {
      "name": "python"
    }
  },
  "cells": [
    {
      "cell_type": "markdown",
      "source": [
        "#  Synthetischen Daten Erzeugung"
      ],
      "metadata": {
        "id": "6zvezo78qOni"
      }
    },
    {
      "cell_type": "code",
      "source": [
        "import csv  # Modul zum Arbeiten mit CSV-Dateien\n",
        "import time  # Modul für Zeitfunktionen\n",
        "import random  # Modul zur Generierung von Zufallszahlen\n",
        "\n",
        "# Name der Datei, in der die Daten gespeichert werden\n",
        "filename = \"sensor_data.csv\"\n",
        "\n",
        "# Vorbereitung der CSV-Datei zum Schreiben von Daten\n",
        "with open(filename, mode='w', newline='') as file:\n",
        "    writer = csv.writer(file)  # Erstellen eines CSV-Schreibers\n",
        "    writer.writerow([\"Timestamp\", \"Temperature [°C]\"])  # Schreiben der Kopfzeile\n",
        "\n",
        "    try:\n",
        "        # Endlosschleife zur kontinuierlichen Datenerfassung\n",
        "        while True:\n",
        "            # Generierung einer simulierten Temperatur im Bereich von 20.0 bis 25.0 Grad Celsius\n",
        "            temperature = random.uniform(20.0, 25.0)\n",
        "\n",
        "            # Erfassung des aktuellen Zeitstempels im Format \"Jahr-Monat-Tag Stunde:Minute:Sekunde\"\n",
        "            timestamp = time.strftime(\"%Y-%m-%d %H:%M:%S\")\n",
        "\n",
        "            # Schreiben der Temperaturdaten und des Zeitstempels in die CSV-Datei\n",
        "            writer.writerow([timestamp, temperature])\n",
        "\n",
        "            # Ausgabe der aufgezeichneten Daten auf der Konsole\n",
        "            print(f\"{timestamp}, {temperature:.2f} °C\")\n",
        "\n",
        "            # Eine Pause von 1 Sekunde zwischen den Messungen\n",
        "            time.sleep(1)\n",
        "\n",
        "    # Beenden der Datenerfassung bei Drücken von Strg+C (KeyboardInterrupt)\n",
        "    except KeyboardInterrupt:\n",
        "        print(\"Datenerfassung beendet.\")\n"
      ],
      "metadata": {
        "colab": {
          "base_uri": "https://localhost:8080/"
        },
        "id": "7wrReNfupafW",
        "outputId": "2e6f5a22-1e39-41fa-8e5f-581598ae3fbe"
      },
      "execution_count": 7,
      "outputs": [
        {
          "output_type": "stream",
          "name": "stdout",
          "text": [
            "2024-09-03 17:47:29, 21.44 °C\n",
            "2024-09-03 17:47:30, 24.71 °C\n",
            "2024-09-03 17:47:31, 23.60 °C\n",
            "2024-09-03 17:47:32, 20.76 °C\n",
            "2024-09-03 17:47:33, 21.44 °C\n",
            "2024-09-03 17:47:34, 20.66 °C\n",
            "2024-09-03 17:47:35, 20.36 °C\n",
            "2024-09-03 17:47:36, 22.03 °C\n",
            "2024-09-03 17:47:37, 22.17 °C\n",
            "2024-09-03 17:47:38, 24.32 °C\n",
            "2024-09-03 17:47:39, 23.01 °C\n",
            "2024-09-03 17:47:40, 20.88 °C\n",
            "2024-09-03 17:47:41, 21.10 °C\n",
            "Datenerfassung beendet.\n"
          ]
        }
      ]
    },
    {
      "cell_type": "markdown",
      "source": [
        "# Daten Lesen"
      ],
      "metadata": {
        "id": "Kp-znbpHqeAX"
      }
    },
    {
      "cell_type": "markdown",
      "source": [
        "## Debugging und Überprüfung des Inhalts:\n",
        "\n",
        "Die auskommentierten print-Anweisungen wurden verwendet, um den Inhalt der Variablen und die Struktur der Daten zu überprüfen, während der Code entwickelt wurde. Dies half dem Entwickler sicherzustellen, dass die Daten korrekt gelesen und verarbeitet wurden."
      ],
      "metadata": {
        "id": "TFYI4_325bwo"
      }
    },
    {
      "cell_type": "code",
      "source": [
        "import csv  # Importiert das 'csv'-Modul, das Werkzeuge zum Arbeiten mit CSV-Dateien bereitstellt\n",
        "\n",
        "# Variablen definieren, um Daten zu speichern\n",
        "timestamps = []  # Erstellt eine leere Liste, um Zeitstempel zu speichern\n",
        "temperatures = []  # Erstellt eine leere Liste, um Temperaturwerte zu speichern\n",
        "\n",
        "# Die Daten aus der CSV-Datei lesen\n",
        "with open('sensor_data.csv', 'r') as file:  # Öffnet die Datei 'sensor_data.csv' im Lesemodus ('r')\n",
        "    reader = csv.reader(file)  # Erstellt ein 'reader'-Objekt, das Zeile für Zeile durch die CSV-Datei iteriert\n",
        "    for row in reader:  # Beginnt eine Schleife, die jede Zeile in der CSV-Datei nacheinander durchläuft\n",
        "\n",
        "        # print(\"row:\", row)  # (auskommentiert) Gibt die aktuelle Zeile in der Konsole aus\n",
        "        # print(\"type: \", type(row))  # (auskommentiert) Gibt den Datentyp der aktuellen Zeile aus\n",
        "        # print(\"len: \", len(row))  # (auskommentiert) Gibt die Anzahl der Elemente in der aktuellen Zeile aus\n",
        "\n",
        "        # print(\"1: \", row[0]) # (auskommentiert) Gibt das erste Element der Zeile (den Zeitstempel) aus\n",
        "        # print(\"2: \", row[1]) # (auskommentiert) Gibt das zweite Element der Zeile (die Temperatur) aus\n",
        "\n",
        "        # print(\"type 1: \", type(row[0]))  # (auskommentiert) Gibt den Datentyp des ersten Elements (Zeitstempel) aus\n",
        "        # print(\"type 2: \", type(row[1]))  # (auskommentiert) Gibt den Datentyp des zweiten Elements (Temperatur) aus\n",
        "        # print(\"- - -\")  # (auskommentiert) Druckt eine Trennlinie zur besseren Lesbarkeit der Ausgabe\n",
        "\n",
        "        timestamp = row[0]  # Speichert das erste Element der Zeile (den Zeitstempel) in der Variablen 'timestamp'\n",
        "        temperature = row[1]  # Speichert das zweite Element der Zeile (die Temperatur) in der Variablen 'temperature'\n",
        "\n",
        "        # # print(\"timestamp\", timestamp[0])  # (auskommentiert) Gibt den ersten Buchstaben/Ziffer des Zeitstempels aus\n",
        "        # # print(\"temperature\", temperature[0])  # (auskommentiert) Gibt die erste Ziffer der Temperatur aus\n",
        "\n",
        "        # print(\"timestamp: \", timestamp)  # (auskommentiert) Gibt den gesamten Zeitstempel aus\n",
        "        # print(\"temperature: \", temperature)  # (auskommentiert) Gibt die gesamte Temperatur aus\n",
        "\n",
        "        timestamps.append(timestamp)  # Fügt den Zeitstempel zur Liste 'timestamps' hinzu\n",
        "        temperatures.append(temperature)  # Fügt die Temperatur zur Liste 'temperatures' hinzu\n",
        "\n",
        "# Jetzt enthalten die Variablen 'timestamps' und 'temperatures' die Daten aus der CSV-Datei\n",
        "timestamps, temperatures  # Gibt die beiden Listen 'timestamps' und 'temperatures' aus\n"
      ],
      "metadata": {
        "colab": {
          "base_uri": "https://localhost:8080/"
        },
        "id": "fKHI3vKh6HO8",
        "outputId": "743c9649-5f41-40f4-cba6-bbbf3a7e53d7"
      },
      "execution_count": 8,
      "outputs": [
        {
          "output_type": "execute_result",
          "data": {
            "text/plain": [
              "(['Timestamp',\n",
              "  '2024-09-03 17:47:29',\n",
              "  '2024-09-03 17:47:30',\n",
              "  '2024-09-03 17:47:31',\n",
              "  '2024-09-03 17:47:32',\n",
              "  '2024-09-03 17:47:33',\n",
              "  '2024-09-03 17:47:34',\n",
              "  '2024-09-03 17:47:35',\n",
              "  '2024-09-03 17:47:36',\n",
              "  '2024-09-03 17:47:37',\n",
              "  '2024-09-03 17:47:38',\n",
              "  '2024-09-03 17:47:39',\n",
              "  '2024-09-03 17:47:40',\n",
              "  '2024-09-03 17:47:41'],\n",
              " ['Temperature [°C]',\n",
              "  '21.442765420082115',\n",
              "  '24.706029670171866',\n",
              "  '23.600576816595037',\n",
              "  '20.758377098700933',\n",
              "  '21.436471138877707',\n",
              "  '20.660308942273158',\n",
              "  '20.360594297636045',\n",
              "  '22.027892304205714',\n",
              "  '22.170736991608738',\n",
              "  '24.322872409098608',\n",
              "  '23.00989649800661',\n",
              "  '20.881091137056877',\n",
              "  '21.104282512867336'])"
            ]
          },
          "metadata": {},
          "execution_count": 8
        }
      ]
    },
    {
      "cell_type": "markdown",
      "source": [
        "## Daten Lesen - clean"
      ],
      "metadata": {
        "id": "Z1kSnjvp5n8f"
      }
    },
    {
      "cell_type": "code",
      "source": [
        "import csv  # Importiert das 'csv'-Modul, das Werkzeuge zum Arbeiten mit CSV-Dateien bereitstellt\n",
        "\n",
        "# Variablen definieren, um Daten zu speichern\n",
        "timestamps = []  # Erstellt eine leere Liste, um Zeitstempel zu speichern\n",
        "temperatures = []  # Erstellt eine leere Liste, um Temperaturwerte zu speichern\n",
        "\n",
        "# Die Daten aus der CSV-Datei lesen\n",
        "with open('sensor_data.csv', 'r') as file:  # Öffnet die Datei 'sensor_data.csv' im Lesemodus ('r')\n",
        "    reader = csv.reader(file)  # Erstellt ein 'reader'-Objekt, das Zeile für Zeile durch die CSV-Datei iteriert\n",
        "    for row in reader:  # Beginnt eine Schleife, die jede Zeile in der CSV-Datei nacheinander durchläuft\n",
        "\n",
        "        timestamp = row[0]  # Speichert das erste Element der Zeile (den Zeitstempel) in der Variablen 'timestamp'\n",
        "        temperature = row[1]  # Speichert das zweite Element der Zeile (die Temperatur) in der Variablen 'temperature'\n",
        "        timestamps.append(timestamp)  # Fügt den Zeitstempel zur Liste 'timestamps' hinzu\n",
        "        temperatures.append(temperature)  # Fügt die Temperatur zur Liste 'temperatures' hinzu\n",
        "\n",
        "# Jetzt enthalten die Variablen 'timestamps' und 'temperatures' die Daten aus der CSV-Datei\n",
        "timestamps, temperatures  # Gibt die beiden Listen 'timestamps' und 'temperatures' aus\n"
      ],
      "metadata": {
        "colab": {
          "base_uri": "https://localhost:8080/"
        },
        "id": "iKPO41YG5nmA",
        "outputId": "0bccf0ce-9167-4cfa-c804-d48dc37b4182"
      },
      "execution_count": 9,
      "outputs": [
        {
          "output_type": "execute_result",
          "data": {
            "text/plain": [
              "(['Timestamp',\n",
              "  '2024-09-03 17:47:29',\n",
              "  '2024-09-03 17:47:30',\n",
              "  '2024-09-03 17:47:31',\n",
              "  '2024-09-03 17:47:32',\n",
              "  '2024-09-03 17:47:33',\n",
              "  '2024-09-03 17:47:34',\n",
              "  '2024-09-03 17:47:35',\n",
              "  '2024-09-03 17:47:36',\n",
              "  '2024-09-03 17:47:37',\n",
              "  '2024-09-03 17:47:38',\n",
              "  '2024-09-03 17:47:39',\n",
              "  '2024-09-03 17:47:40',\n",
              "  '2024-09-03 17:47:41'],\n",
              " ['Temperature [°C]',\n",
              "  '21.442765420082115',\n",
              "  '24.706029670171866',\n",
              "  '23.600576816595037',\n",
              "  '20.758377098700933',\n",
              "  '21.436471138877707',\n",
              "  '20.660308942273158',\n",
              "  '20.360594297636045',\n",
              "  '22.027892304205714',\n",
              "  '22.170736991608738',\n",
              "  '24.322872409098608',\n",
              "  '23.00989649800661',\n",
              "  '20.881091137056877',\n",
              "  '21.104282512867336'])"
            ]
          },
          "metadata": {},
          "execution_count": 9
        }
      ]
    },
    {
      "cell_type": "code",
      "source": [
        "temperatures[1:]  # Gibt eine Liste zurück, die alle Elemente der Liste 'temperatures' ab dem zweiten Element (Index 1) enthält."
      ],
      "metadata": {
        "colab": {
          "base_uri": "https://localhost:8080/"
        },
        "id": "8I17a5rvA9Q8",
        "outputId": "7c0a1f4f-59f4-43af-b65a-4f0d7c34bee5"
      },
      "execution_count": 10,
      "outputs": [
        {
          "output_type": "execute_result",
          "data": {
            "text/plain": [
              "['21.442765420082115',\n",
              " '24.706029670171866',\n",
              " '23.600576816595037',\n",
              " '20.758377098700933',\n",
              " '21.436471138877707',\n",
              " '20.660308942273158',\n",
              " '20.360594297636045',\n",
              " '22.027892304205714',\n",
              " '22.170736991608738',\n",
              " '24.322872409098608',\n",
              " '23.00989649800661',\n",
              " '20.881091137056877',\n",
              " '21.104282512867336']"
            ]
          },
          "metadata": {},
          "execution_count": 10
        }
      ]
    },
    {
      "cell_type": "markdown",
      "source": [
        "# Die Elemente der Kopfzeile aus der CSV-Datei extrahieren"
      ],
      "metadata": {
        "id": "wet8xTeu8YxF"
      }
    },
    {
      "cell_type": "code",
      "source": [
        "sp1 = timestamps[0]  # Weist der Variable 'sp1' den Wert des ersten Elements (Index 0) aus der Liste 'timestamps' zu.\n",
        "sp2 = temperatures[0]  # Weist der Variable 'sp2' den Wert des ersten Elements (Index 0) aus der Liste 'temperatures' zu.\n",
        "sp1, sp2  # Gibt die Werte von 'sp1' und 'sp2' zurück, d.h., den ersten Zeitstempel und die erste Temperatur.\n"
      ],
      "metadata": {
        "colab": {
          "base_uri": "https://localhost:8080/"
        },
        "id": "RI1MWVE0B81o",
        "outputId": "1645e764-129a-4b23-a8ba-8506a8828b67"
      },
      "execution_count": 11,
      "outputs": [
        {
          "output_type": "execute_result",
          "data": {
            "text/plain": [
              "('Timestamp', 'Temperature [°C]')"
            ]
          },
          "metadata": {},
          "execution_count": 11
        }
      ]
    },
    {
      "cell_type": "markdown",
      "source": [
        "# Entfernt die Kopfzeile aus den Daten\n"
      ],
      "metadata": {
        "id": "mqPyVxnI9ImO"
      }
    },
    {
      "cell_type": "code",
      "source": [
        "timestamps = timestamps[1:]  # Aktualisiert die Liste 'timestamps', indem das erste Element entfernt wird. Es enthält jetzt alle ursprünglichen Elemente ab dem zweiten.\n",
        "temperatures = temperatures[1:]  # Aktualisiert die Liste 'temperatures', indem das erste Element entfernt wird. Es enthält jetzt alle ursprünglichen Elemente ab dem zweiten.\n",
        "timestamps, temperatures  # Gibt die aktualisierten Listen 'timestamps' und 'temperatures' aus, wobei die ersten Elemente jeweils entfernt wurden."
      ],
      "metadata": {
        "colab": {
          "base_uri": "https://localhost:8080/"
        },
        "id": "am3_16IXrbSK",
        "outputId": "098f57e5-f59d-4799-a45b-13cdd96ce795"
      },
      "execution_count": 12,
      "outputs": [
        {
          "output_type": "execute_result",
          "data": {
            "text/plain": [
              "(['2024-09-03 17:47:29',\n",
              "  '2024-09-03 17:47:30',\n",
              "  '2024-09-03 17:47:31',\n",
              "  '2024-09-03 17:47:32',\n",
              "  '2024-09-03 17:47:33',\n",
              "  '2024-09-03 17:47:34',\n",
              "  '2024-09-03 17:47:35',\n",
              "  '2024-09-03 17:47:36',\n",
              "  '2024-09-03 17:47:37',\n",
              "  '2024-09-03 17:47:38',\n",
              "  '2024-09-03 17:47:39',\n",
              "  '2024-09-03 17:47:40',\n",
              "  '2024-09-03 17:47:41'],\n",
              " ['21.442765420082115',\n",
              "  '24.706029670171866',\n",
              "  '23.600576816595037',\n",
              "  '20.758377098700933',\n",
              "  '21.436471138877707',\n",
              "  '20.660308942273158',\n",
              "  '20.360594297636045',\n",
              "  '22.027892304205714',\n",
              "  '22.170736991608738',\n",
              "  '24.322872409098608',\n",
              "  '23.00989649800661',\n",
              "  '20.881091137056877',\n",
              "  '21.104282512867336'])"
            ]
          },
          "metadata": {},
          "execution_count": 12
        }
      ]
    },
    {
      "cell_type": "markdown",
      "source": [
        "# Elemente der 'temperatures' von Text (string) zu Fließkommazahlen (float) konvertieren"
      ],
      "metadata": {
        "id": "EN5MF_dh9sgD"
      }
    },
    {
      "cell_type": "code",
      "source": [
        "temperatures2 = [float(temp) for temp in temperatures]  # Erstellt eine neue Liste 'temperatures2', die die Elemente der Liste 'temperatures' als Fließkommazahlen enthält."
      ],
      "metadata": {
        "id": "BAe1wIjx2JMp"
      },
      "execution_count": 13,
      "outputs": []
    },
    {
      "cell_type": "markdown",
      "source": [
        "#"
      ],
      "metadata": {
        "id": "9VtNBr-l_Bt2"
      }
    },
    {
      "cell_type": "code",
      "source": [
        "rounded_temperatures = [round(float(temp), 2) for temp in temperatures]  # Erstellt eine neue Liste 'rounded_temperatures', in der die Temperaturwerte als auf zwei Dezimalstellen gerundete Fließkommazahlen gespeichert werden.\n",
        "rounded_temperatures  # Gibt die Liste 'rounded_temperatures' aus, die die gerundeten Temperaturwerte enthält.\n"
      ],
      "metadata": {
        "colab": {
          "base_uri": "https://localhost:8080/"
        },
        "id": "Iw1EFSSLr1P6",
        "outputId": "16208bff-4c79-4858-816d-fada0a7c9a0e"
      },
      "execution_count": 14,
      "outputs": [
        {
          "output_type": "execute_result",
          "data": {
            "text/plain": [
              "[21.44,\n",
              " 24.71,\n",
              " 23.6,\n",
              " 20.76,\n",
              " 21.44,\n",
              " 20.66,\n",
              " 20.36,\n",
              " 22.03,\n",
              " 22.17,\n",
              " 24.32,\n",
              " 23.01,\n",
              " 20.88,\n",
              " 21.1]"
            ]
          },
          "metadata": {},
          "execution_count": 14
        }
      ]
    },
    {
      "cell_type": "markdown",
      "source": [
        "#  Temperaturwerte als auf zwei Dezimalstellen runden"
      ],
      "metadata": {
        "id": "QkKTzzEZ_HcO"
      }
    },
    {
      "cell_type": "code",
      "source": [
        "rounded_temperatures = [round(float(temp), 2) for temp in temperatures]  # Erstellt eine neue Liste 'rounded_temperatures', in der die Temperaturwerte als auf zwei Dezimalstellen gerundete Fließkommazahlen gespeichert werden.\n"
      ],
      "metadata": {
        "id": "a6c_TXyv-xwb"
      },
      "execution_count": 15,
      "outputs": []
    },
    {
      "cell_type": "markdown",
      "source": [
        "# plot"
      ],
      "metadata": {
        "id": "OcOvYeOIpmyW"
      }
    },
    {
      "cell_type": "code",
      "source": [
        "import matplotlib.pyplot as plt  # Importiert das Modul 'matplotlib.pyplot', das Funktionen zum Erstellen von Plots bereitstellt\n",
        "\n",
        "# Annahme: 'timestamps' und 'temperatures' sind bereits gefüllt\n",
        "# Dies bedeutet, dass die Listen 'timestamps' und 'temperatures' bereits zuvor mit Daten befüllt wurden.\n",
        "\n",
        "# Konvertiere die Timestamps für die Plot-Darstellung (optional, falls notwendig)\n",
        "# import matplotlib.dates as mdates  # Importiert das Modul 'matplotlib.dates', das Werkzeuge zum Arbeiten mit Datum und Zeit in Plots bietet\n",
        "# timestamps = [mdates.datestr2num(ts) for ts in timestamps]  # (optional) Konvertiert die Zeitstempel aus Strings in numerische Formate, die für das Plotten erforderlich sein könnten\n",
        "\n",
        "# Plot erstellen\n",
        "plt.figure(figsize=(10, 5))  # Erstellt eine neue Grafik mit den Abmessungen 10x5 Zoll\n",
        "\n",
        "# plt.plot(timestamps, temperatures, marker='o', linestyle='-', color='b')  # !!!BUG !!!:: (auskommentiert) Plottet die 'temperatures' (str)!!! gegen die 'timestamps' mit blauen Linien und Kreismarkierungen\n",
        "plt.plot(timestamps, temperatures2, marker='o', linestyle='-', color='b')  # Plottet die Liste 'temperatures2' gegen 'timestamps' mit blauen Linien und Kreismarkierungen\n",
        "# plt.plot(timestamps, rounded_temperatures, marker='o', linestyle='-', color='b')  # (auskommentiert) Plottet die 'rounded_temperatures' gegen die 'timestamps' (gerundete Werte)\n",
        "\n",
        "# Achsenbeschriftungen und Titel\n",
        "plt.xlabel(sp1)  # Beschriftet die x-Achse mit dem Wert von 'sp1', was typischerweise der Name der Zeitstempelspalte ist\n",
        "plt.ylabel(sp2)  # Beschriftet die y-Achse mit dem Wert von 'sp2', was typischerweise der Name der Temperatursäule ist\n",
        "plt.title('Temperature over Time')  # Setzt den Titel des Plots auf 'Temperature over Time'\n",
        "\n",
        "# Verbesserung der x-Achsen-Darstellung (falls Timestamps nicht lesbar sind)\n",
        "plt.xticks(rotation=45, ha='right')  # Dreht die x-Achsen-Beschriftungen um 45 Grad und richtet sie rechtsbündig aus, um die Lesbarkeit zu verbessern\n",
        "\n",
        "# Gitter anzeigen\n",
        "plt.grid(True)  # Zeigt ein Gitter im Plot an, um das Ablesen der Werte zu erleichtern\n",
        "\n",
        "# Plot anzeigen\n",
        "plt.tight_layout()  # Passt das Layout an, um Überlappungen zwischen den Elementen des Plots zu vermeiden\n",
        "plt.show()  # Zeigt den Plot auf dem Bildschirm an\n"
      ],
      "metadata": {
        "colab": {
          "base_uri": "https://localhost:8080/",
          "height": 506
        },
        "id": "x70UAfq7_hSm",
        "outputId": "20d8ea2f-bf8e-4cbc-8e41-ecea576c703c"
      },
      "execution_count": 17,
      "outputs": [
        {
          "output_type": "display_data",
          "data": {
            "text/plain": [
              "<Figure size 1000x500 with 1 Axes>"
            ],
            "image/png": "[encoded data removed]"
          },
          "metadata": {}
        }
      ]
    }
  ]
}