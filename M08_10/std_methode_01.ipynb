{
 "cells": [
  {
   "cell_type": "code",
   "execution_count": 2,
   "metadata": {},
   "outputs": [],
   "source": [
    "import numpy as np\n",
    "import matplotlib.pyplot as plt\n",
    "\n",
    "# Generierung eines synthetischen Datensatzes\n",
    "data = np.random.normal(0, 1, 1000)\n",
    "data = np.append(data, [5, 6, 7])  # Fügen Sie einige Outlier hinzu\n",
    "\n",
    "# Berechnung des Mittelwerts und der Standardabweichung\n",
    "\n",
    "# Identifikation von Outliern (mehr als 3 Standardabweichungen entfernt)\n",
    "\n",
    "# Visualisierung"
   ]
  }
 ],
 "metadata": {
  "kernelspec": {
   "display_name": "Python 3",
   "language": "python",
   "name": "python3"
  },
  "language_info": {
   "codemirror_mode": {
    "name": "ipython",
    "version": 3
   },
   "file_extension": ".py",
   "mimetype": "text/x-python",
   "name": "python",
   "nbconvert_exporter": "python",
   "pygments_lexer": "ipython3",
   "version": "3.10.8"
  }
 },
 "nbformat": 4,
 "nbformat_minor": 2
}
